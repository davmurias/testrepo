{
 "cells": [
  {
   "cell_type": "markdown",
   "id": "0dbeed19-0eb6-4540-b48e-d1238f7e30d4",
   "metadata": {},
   "source": [
    "## Incio de prueba"
   ]
  },
  {
   "cell_type": "code",
   "execution_count": 1,
   "id": "964ef819-12e5-46a7-9291-50449476d891",
   "metadata": {
    "tags": []
   },
   "outputs": [
    {
     "name": "stdout",
     "output_type": "stream",
     "text": [
      "Probando ...\n"
     ]
    }
   ],
   "source": [
    "print(\"Probando ...\")"
   ]
  },
  {
   "cell_type": "code",
   "execution_count": null,
   "id": "5522d30a-097b-482f-b6ff-8b01572a4447",
   "metadata": {},
   "outputs": [],
   "source": []
  }
 ],
 "metadata": {
  "kernelspec": {
   "display_name": "Python 3 (ipykernel)",
   "language": "python",
   "name": "python3"
  },
  "language_info": {
   "codemirror_mode": {
    "name": "ipython",
    "version": 3
   },
   "file_extension": ".py",
   "mimetype": "text/x-python",
   "name": "python",
   "nbconvert_exporter": "python",
   "pygments_lexer": "ipython3",
   "version": "3.11.5"
  }
 },
 "nbformat": 4,
 "nbformat_minor": 5
}
